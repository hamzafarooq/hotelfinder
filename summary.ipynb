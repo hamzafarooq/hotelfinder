{
 "cells": [
  {
   "cell_type": "code",
   "execution_count": 2,
   "metadata": {},
   "outputs": [],
   "source": [
    "import torch\n",
    "import transformers\n",
    "from transformers import BartTokenizer, BartForConditionalGeneration\n",
    "tr = BartTokenizer.from_pretrained('facebook/bart-large-cnn')\n",
    "mdl = BartForConditionalGeneration.from_pretrained('facebook/bart-large-cnn')\n",
    "torch_device = 'cpu'\n"
   ]
  },
  {
   "cell_type": "code",
   "execution_count": 3,
   "metadata": {},
   "outputs": [],
   "source": [
    "def bart_summarize(text, num_beams=20, length_penalty=2, max_length=2048, min_length=56, no_repeat_ngram_size=2):\n",
    "\n",
    "      text = text.replace('\\n','')\n",
    "      text_input_ids = tr.batch_encode_plus([text], return_tensors='pt', max_length=1024)['input_ids'].to(torch_device)\n",
    "      summary_ids = mdl.generate(text_input_ids, num_beams=int(num_beams), length_penalty=float(length_penalty), max_length=int(max_length), min_length=int(min_length), no_repeat_ngram_size=int(no_repeat_ngram_size))\n",
    "      summary_txt = tr.decode(summary_ids.squeeze(), skip_special_tokens=True)\n",
    "      return summary_txt"
   ]
  },
  {
   "cell_type": "code",
   "execution_count": 4,
   "metadata": {},
   "outputs": [],
   "source": [
    "import pandas as pd\n",
    "from sentence_transformers import SentenceTransformer\n",
    "import scipy.spatial\n",
    "import pickle as pkl\n",
    "from sentence_transformers import SentenceTransformer, util\n",
    "import torch\n",
    "#import os\n",
    "\n",
    "\n",
    "df = pd.read_csv('combined_paris.csv')\n",
    "\n",
    "\n",
    "df_combined = df.sort_values(['Hotel']).groupby('Hotel', sort=False).review.apply(''.join).reset_index(name='all_review')\n",
    "\n",
    "import re\n",
    "\n",
    "df_combined['all_review'] = df_combined['all_review'].apply(lambda x: re.sub('[^a-zA-z0-9\\s]','',x))\n",
    "def lower_case(input_str):\n",
    "        input_str = input_str.lower()\n",
    "        return input_str"
   ]
  },
  {
   "cell_type": "code",
   "execution_count": 5,
   "metadata": {},
   "outputs": [],
   "source": [
    "df_combined['all_review']= df_combined['all_review'].apply(lambda x: lower_case(x))\n",
    "\n",
    "df = df_combined\n",
    "\n",
    "df_sentences = df_combined.set_index(\"all_review\")\n",
    "\n",
    "df_sentences = df_sentences[\"Hotel\"].to_dict()\n",
    "df_sentences_list = list(df_sentences.keys())\n"
   ]
  },
  {
   "cell_type": "code",
   "execution_count": 6,
   "metadata": {},
   "outputs": [
    {
     "data": {
      "text/html": [
       "<div>\n",
       "<style scoped>\n",
       "    .dataframe tbody tr th:only-of-type {\n",
       "        vertical-align: middle;\n",
       "    }\n",
       "\n",
       "    .dataframe tbody tr th {\n",
       "        vertical-align: top;\n",
       "    }\n",
       "\n",
       "    .dataframe thead th {\n",
       "        text-align: right;\n",
       "    }\n",
       "</style>\n",
       "<table border=\"1\" class=\"dataframe\">\n",
       "  <thead>\n",
       "    <tr style=\"text-align: right;\">\n",
       "      <th></th>\n",
       "      <th>0</th>\n",
       "      <th>1</th>\n",
       "      <th>2</th>\n",
       "      <th>3</th>\n",
       "      <th>4</th>\n",
       "    </tr>\n",
       "  </thead>\n",
       "  <tbody>\n",
       "    <tr>\n",
       "      <th>Hotel</th>\n",
       "      <td>25hours Hotel Terminus Nord</td>\n",
       "      <td>Acacias Etoile Hotel</td>\n",
       "      <td>COQ Hotel Paris</td>\n",
       "      <td>Campanile Paris 14 - Maine Montparnasse</td>\n",
       "      <td>Cler Hotel</td>\n",
       "    </tr>\n",
       "    <tr>\n",
       "      <th>all_review</th>\n",
       "      <td>weve spent lots of time in paris and this was ...</td>\n",
       "      <td>the hotel is great for value the breakfast sel...</td>\n",
       "      <td>stayed for a short city break  the hotel is a ...</td>\n",
       "      <td>room was very clean  transportation is very ne...</td>\n",
       "      <td>we had the best stay at cler hotel  the locati...</td>\n",
       "    </tr>\n",
       "  </tbody>\n",
       "</table>\n",
       "</div>"
      ],
      "text/plain": [
       "                                                            0  \\\n",
       "Hotel                             25hours Hotel Terminus Nord   \n",
       "all_review  weve spent lots of time in paris and this was ...   \n",
       "\n",
       "                                                            1  \\\n",
       "Hotel                                    Acacias Etoile Hotel   \n",
       "all_review  the hotel is great for value the breakfast sel...   \n",
       "\n",
       "                                                            2  \\\n",
       "Hotel                                         COQ Hotel Paris   \n",
       "all_review  stayed for a short city break  the hotel is a ...   \n",
       "\n",
       "                                                            3  \\\n",
       "Hotel                 Campanile Paris 14 - Maine Montparnasse   \n",
       "all_review  room was very clean  transportation is very ne...   \n",
       "\n",
       "                                                            4  \n",
       "Hotel                                              Cler Hotel  \n",
       "all_review  we had the best stay at cler hotel  the locati...  "
      ]
     },
     "execution_count": 6,
     "metadata": {},
     "output_type": "execute_result"
    }
   ],
   "source": [
    "df_combined.head().T"
   ]
  },
  {
   "cell_type": "code",
   "execution_count": 7,
   "metadata": {},
   "outputs": [
    {
     "name": "stderr",
     "output_type": "stream",
     "text": [
      "Truncation was not explicitly activated but `max_length` is provided a specific value, please use `truncation=True` to explicitly truncate examples to max length. Defaulting to 'longest_first' truncation strategy. If you encode pairs of sequences (GLUE-style) with the tokenizer you can select this strategy more precisely by providing a specific strategy to `truncation`.\n"
     ]
    }
   ],
   "source": [
    "long_summary = []\n",
    "\n",
    "for i in range(len(df_combined)):\n",
    "    t = bart_summarize(df_combined['all_review'][i])\n",
    "    long_summary.append(t)"
   ]
  },
  {
   "cell_type": "code",
   "execution_count": 8,
   "metadata": {},
   "outputs": [],
   "source": [
    "df_combined['summary'] = long_summary"
   ]
  },
  {
   "cell_type": "code",
   "execution_count": 9,
   "metadata": {},
   "outputs": [],
   "source": [
    "df_combined.to_csv('df_combined_paris.csv',index=False)"
   ]
  },
  {
   "cell_type": "code",
   "execution_count": 10,
   "metadata": {},
   "outputs": [
    {
     "data": {
      "text/html": [
       "<div>\n",
       "<style scoped>\n",
       "    .dataframe tbody tr th:only-of-type {\n",
       "        vertical-align: middle;\n",
       "    }\n",
       "\n",
       "    .dataframe tbody tr th {\n",
       "        vertical-align: top;\n",
       "    }\n",
       "\n",
       "    .dataframe thead th {\n",
       "        text-align: right;\n",
       "    }\n",
       "</style>\n",
       "<table border=\"1\" class=\"dataframe\">\n",
       "  <thead>\n",
       "    <tr style=\"text-align: right;\">\n",
       "      <th></th>\n",
       "      <th>Hotel</th>\n",
       "      <th>all_review</th>\n",
       "      <th>summary</th>\n",
       "    </tr>\n",
       "  </thead>\n",
       "  <tbody>\n",
       "    <tr>\n",
       "      <th>0</th>\n",
       "      <td>25hours Hotel Terminus Nord</td>\n",
       "      <td>weve spent lots of time in paris and this was ...</td>\n",
       "      <td>we were blown away by this excellent hotel we ...</td>\n",
       "    </tr>\n",
       "    <tr>\n",
       "      <th>1</th>\n",
       "      <td>Acacias Etoile Hotel</td>\n",
       "      <td>the hotel is great for value the breakfast sel...</td>\n",
       "      <td>The hotel is great for value the breakfast sel...</td>\n",
       "    </tr>\n",
       "    <tr>\n",
       "      <th>2</th>\n",
       "      <td>COQ Hotel Paris</td>\n",
       "      <td>stayed for a short city break  the hotel is a ...</td>\n",
       "      <td>stayed for a short city break  the hotel is a ...</td>\n",
       "    </tr>\n",
       "    <tr>\n",
       "      <th>3</th>\n",
       "      <td>Campanile Paris 14 - Maine Montparnasse</td>\n",
       "      <td>room was very clean  transportation is very ne...</td>\n",
       "      <td>hotel turned out to be perfect for our short ...</td>\n",
       "    </tr>\n",
       "    <tr>\n",
       "      <th>4</th>\n",
       "      <td>Cler Hotel</td>\n",
       "      <td>we had the best stay at cler hotel  the locati...</td>\n",
       "      <td>we had the best stay at cler hotel  the locati...</td>\n",
       "    </tr>\n",
       "  </tbody>\n",
       "</table>\n",
       "</div>"
      ],
      "text/plain": [
       "                                     Hotel  \\\n",
       "0              25hours Hotel Terminus Nord   \n",
       "1                     Acacias Etoile Hotel   \n",
       "2                          COQ Hotel Paris   \n",
       "3  Campanile Paris 14 - Maine Montparnasse   \n",
       "4                               Cler Hotel   \n",
       "\n",
       "                                          all_review  \\\n",
       "0  weve spent lots of time in paris and this was ...   \n",
       "1  the hotel is great for value the breakfast sel...   \n",
       "2  stayed for a short city break  the hotel is a ...   \n",
       "3  room was very clean  transportation is very ne...   \n",
       "4  we had the best stay at cler hotel  the locati...   \n",
       "\n",
       "                                             summary  \n",
       "0  we were blown away by this excellent hotel we ...  \n",
       "1  The hotel is great for value the breakfast sel...  \n",
       "2  stayed for a short city break  the hotel is a ...  \n",
       "3   hotel turned out to be perfect for our short ...  \n",
       "4  we had the best stay at cler hotel  the locati...  "
      ]
     },
     "execution_count": 10,
     "metadata": {},
     "output_type": "execute_result"
    }
   ],
   "source": [
    "df_combined.head()"
   ]
  },
  {
   "cell_type": "code",
   "execution_count": null,
   "metadata": {},
   "outputs": [],
   "source": []
  },
  {
   "cell_type": "code",
   "execution_count": 3,
   "metadata": {},
   "outputs": [
    {
     "name": "stdout",
     "output_type": "stream",
     "text": [
      "Dockerfile                            df_combined.csv\n",
      "Hotel New York Combined.csv           en_core_web_sm-3.2.0-py3-none-any.whl\n",
      "README.md                             query_generator.ipynb\n",
      "Untitled.ipynb                        requirements.txt\n",
      "app.py                                summary.ipynb\n",
      "app.yaml\n"
     ]
    }
   ],
   "source": [
    "!ls"
   ]
  },
  {
   "cell_type": "code",
   "execution_count": null,
   "metadata": {},
   "outputs": [],
   "source": []
  }
 ],
 "metadata": {
  "interpreter": {
   "hash": "4bd624a0593993fe43ac4046b27b898fb2ef75c21c08f81e89e64ea0f51df676"
  },
  "kernelspec": {
   "display_name": "Python 3 (ipykernel)",
   "language": "python",
   "name": "python3"
  },
  "language_info": {
   "codemirror_mode": {
    "name": "ipython",
    "version": 3
   },
   "file_extension": ".py",
   "mimetype": "text/x-python",
   "name": "python",
   "nbconvert_exporter": "python",
   "pygments_lexer": "ipython3",
   "version": "3.8.12"
  }
 },
 "nbformat": 4,
 "nbformat_minor": 2
}
